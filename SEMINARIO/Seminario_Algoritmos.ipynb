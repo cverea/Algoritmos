{
  "cells": [
    {
      "cell_type": "markdown",
      "metadata": {
        "id": "hVbXYX-RfPWh"
      },
      "source": [
        "# Algoritmos de optimización - Seminario<br>\n",
        "Nombre y Apellidos:   <br>\n",
        "Url: https://github.com/.../03MAIR---Algoritmos-de-Optimizacion---2019/tree/master/SEMINARIO<br>\n",
        "\n",
        "\n",
        "Descripción del problema:\n",
        "\n",
        "• El problema consiste en analizar el siguiente problema y diseñar un algoritmo que lo resuelva.\n",
        "\n",
        "• Disponemos de las 9 cifras del 1 al 9 (excluimos el cero) y de los 4 signos básicos de las\n",
        "operaciones fundamentales: suma(+), resta(-), multiplicación(*) y división(/)\n",
        "\n",
        "• Debemos combinarlos alternativamente sin repetir ninguno de ellos para obtener una\n",
        "cantidad dada. Un ejemplo sería para obtener el 4:\n",
        "\n",
        "4+2-6/3*1 = 4\n",
        "\n",
        "• Debe analizarse el problema para encontrar todos los valores enteros posibles planteando las\n",
        "siguientes cuestiones:\n",
        "\n",
        "- ¿Qué valor máximo y mínimo se pueden obtener según las condiciones del problema?\n",
        "- ¿Es posible encontrar todos los valores enteros posibles entre dicho mínimo y máximo ?\n",
        "\n",
        "\n",
        "                                        "
      ]
    },
    {
      "cell_type": "markdown",
      "metadata": {
        "id": "AiskKkzZfy4e"
      },
      "source": [
        "Los valores máximo y mínimo son -69 y 77. Sí, es posible encontrar todos los valores enteros entre ambos (147 posibilidades)"
      ]
    },
    {
      "cell_type": "markdown",
      "metadata": {
        "id": "3_-exlrTgLd-"
      },
      "source": [
        "(*)¿Cuantas posibilidades hay sin tener en cuenta las restricciones?<br>\n",
        "\n",
        "\n",
        "\n",
        "¿Cuantas posibilidades hay teniendo en cuenta todas las restricciones.\n",
        "\n",
        "\n"
      ]
    },
    {
      "cell_type": "markdown",
      "metadata": {
        "id": "WfCUqJyKhPcw"
      },
      "source": [
        "Respuesta"
      ]
    },
    {
      "cell_type": "markdown",
      "metadata": {
        "id": "iq6Fe32MgpDX"
      },
      "source": [
        "El número de posibilidades sin tener en cuenta las restricciones (permitiendo valores duplicados) es:\n",
        "\n",
        "$$\n",
        "9^5 \\times 4^4\n",
        "\\;=\\;59{,}049\\times256\n",
        "\\;=\\;15{,}116{,}544\n",
        "$$\n",
        "\n",
        "\n",
        "El número de posibilidades teniendo en cuenta las restricciones (sin valores duplicados) es:\n",
        "\n",
        "$$\n",
        "P(9,5)\\times P(4,4)\n",
        "\\;=\\;\\frac{9!}{(9-5)!}\\times 4!\n",
        "\\;=\\;15\\,120\\times 24\n",
        "\\;=\\;362\\,880\n",
        "$$"
      ]
    },
    {
      "cell_type": "markdown",
      "metadata": {
        "id": "dzynfVJahHoY"
      },
      "source": [
        "Modelo para el espacio de soluciones<br>\n",
        "(*) ¿Cual es la estructura de datos que mejor se adapta al problema? Argumentalo.(Es posible que hayas elegido una al principio y veas la necesidad de cambiar, arguentalo)\n"
      ]
    },
    {
      "cell_type": "markdown",
      "metadata": {
        "id": "xFIJrOwKi2Ti"
      },
      "source": [
        "Respuesta"
      ]
    },
    {
      "cell_type": "markdown",
      "metadata": {
        "id": "38c-7-ejhJmA"
      },
      "source": [
        "La estructura de datos empleada fueron 2 arrays, uno de dígitos y otro de operaciones. Esto permite iterar fácilmente sobre las permutaciones de forma anidada y añadir los resultados a un Set que contiene todas las posibles soluciones enteras. De este modo podemos obtener el máximo y el mínimo de forma sencilla, así como el total de valores distintos posibles. "
      ]
    },
    {
      "cell_type": "markdown",
      "metadata": {
        "id": "7Z9U2W7bi-XS"
      },
      "source": [
        "Según el modelo para el espacio de soluciones<br>\n",
        "(*)¿Cual es la función objetivo?\n",
        "\n",
        "(*)¿Es un problema de maximización o minimización?"
      ]
    },
    {
      "cell_type": "markdown",
      "metadata": {
        "id": "hBalWLM7j1_d"
      },
      "source": [
        "Respuesta"
      ]
    },
    {
      "cell_type": "markdown",
      "metadata": {
        "id": "pDA-rg3Gj5Lz"
      },
      "source": [
        "Sí es un problema de maximización o minimización, dependiendo del valor que busquemos. La función objetivo a maximizar o minimizar es la evaluación de la expresión matemática. Se trata de obtener el máximo (o mínimo) valor posible dado un conjunto de dígitos y operadores."
      ]
    },
    {
      "cell_type": "markdown",
      "metadata": {
        "id": "rlnTYgY1j6I2"
      },
      "source": [
        "Diseña un algoritmo para resolver el problema por fuerza bruta"
      ]
    },
    {
      "cell_type": "markdown",
      "metadata": {
        "id": "70rDgxYXkC8r"
      },
      "source": [
        "Respuesta"
      ]
    },
    {
      "cell_type": "markdown",
      "metadata": {},
      "source": [
        "El algoritmo de fuerza bruta consiste en recorrer exhaustivamente todas las posibles combinaciones de dígitos y operadores posibles. Esto lo haremos con dos bucles anidados, uno que recorra todas las permutaciones de dígitos tomados de 5 en 5, y otro sobre "
      ]
    },
    {
      "cell_type": "code",
      "execution_count": 86,
      "metadata": {
        "id": "CJb5sQ0qkENy"
      },
      "outputs": [
        {
          "name": "stdout",
          "output_type": "stream",
          "text": [
            "Number of solutions found: 147\n",
            "Minimum value: -69\n",
            "Maximum value: 77\n"
          ]
        }
      ],
      "source": [
        "from itertools import permutations\n",
        "\n",
        "def arithmetic_expression_constructor(digits, number_of_digits, operations, number_of_operations):\n",
        "    \n",
        "    digits_list = digits.copy()\n",
        "    operations_list = operations.copy()\n",
        "\n",
        "    results = set()\n",
        "\n",
        "    for digit_permutation in permutations(digits_list, number_of_digits):        \n",
        "        for operation_permutation in permutations(operations_list, number_of_operations):            \n",
        "            expression = f\"{digit_permutation[0]} {operation_permutation[0]} {digit_permutation[1]} {operation_permutation[1]} {digit_permutation[2]} {operation_permutation[2]} {digit_permutation[3]} {operation_permutation[3]} {digit_permutation[4]}\"             \n",
        "            result = eval(expression)\n",
        "            if result == int(result):\n",
        "                results.add(int(result))\n",
        "\n",
        "    return(results)\n",
        "     \n",
        "digits = [1,2,3,4,5,6,7,8,9]\n",
        "number_of_digits = 5\n",
        "operations = ['+', '-', '*', '/']\n",
        "number_of_operations = 4\n",
        "results = arithmetic_expression_constructor(digits, number_of_digits, operations, number_of_operations)\n",
        "print(f'Number of solutions found: {len(results)}')\n",
        "min_value = min(results)\n",
        "max_value = max(results)\n",
        "print(f'Minimum value: {min_value}')\n",
        "print(f'Maximum value: {max_value}')  \n"
      ]
    },
    {
      "cell_type": "markdown",
      "metadata": {
        "id": "tgrnsC2nkFa8"
      },
      "source": [
        "Calcula la complejidad del algoritmo por fuerza bruta"
      ]
    },
    {
      "cell_type": "markdown",
      "metadata": {
        "id": "9eUd3xwckP68"
      },
      "source": [
        "Respuesta"
      ]
    },
    {
      "cell_type": "markdown",
      "metadata": {
        "id": "rvZWwL-ckRST"
      },
      "source": [
        "El algoritmo (generalizado a cualquier entrada) consta de dos bucles anidados, cada uno de ellos sobre las permutaciones de los dígitos (P(n, k), donde n es el conjunto de dígitos permitidos y k el número de dígitos a emplear en la expresión) y de los operadores (P(m, l), donde m es el conjunto de operadores y l el número de operadores en la expresión, que coincide con el número de dígitos menos uno), por tanto la complejidad es el producto de ambas permutaciones:\n",
        "\n",
        "$$\n",
        "T = O\\!\\Bigl(\\frac{n!}{(n - k)!} \\times \\frac{m!}{(m - (k - 1))!}\\Bigr)\n",
        "$$\n",
        "\n",
        "*Nota*: en el algoritmo de fuerza bruta, nos apoyamos en un Set para almacenar todos los posibles valores obtenidos dado el conjunto de entrada. De este modo podemos fácilmente calcular el mínimo, máximo y número de soluciones distintas. La obtención del mínimo y máximo en un Set tienen complejidad lineal, pero al estar dominados por la componente factorial no cambian la complejidad del algoritmo en su conjunto."
      ]
    },
    {
      "cell_type": "markdown",
      "metadata": {
        "id": "txbrmLmskReM"
      },
      "source": [
        "(*)Diseña un algoritmo que mejore la complejidad del algortimo por fuerza bruta. Argumenta porque crees que mejora el algoritmo por fuerza bruta"
      ]
    },
    {
      "cell_type": "markdown",
      "metadata": {
        "id": "hLrVwt5QkZPD"
      },
      "source": [
        "Respuesta"
      ]
    },
    {
      "cell_type": "markdown",
      "metadata": {},
      "source": [
        "El problema planteado, llamado *Arithmetic Expression Construction*, es bastante conocido tanto a nivel popular (por juegos como el *24 game* o concursos como *Countdown*) como académico, debido a las propiedades algorítmicas del mismo. Se trata de un problema **NP Completo** (de forma fuerte o débil, dependiendo del conjunto de operadores seleccionado). Para una solución exacta de este problema, no es posible mejorar la componente factorial del algoritmo de fuerza bruta, pero podemos encontrar soluciones aproximadas en tiempos razonables. Por ejemplo, usando un algoritmo voraz podemos aproximar el máximo de forma sencilla (en este caso se consigue el valor exacto). Para el mínimo se podría emplear una solución análoga."
      ]
    },
    {
      "cell_type": "code",
      "execution_count": null,
      "metadata": {
        "id": "m1eyM21Vkabg"
      },
      "outputs": [
        {
          "name": "stdout",
          "output_type": "stream",
          "text": [
            "Maximum value: 77\n"
          ]
        }
      ],
      "source": [
        "def calculate_maximum_greedy(digits, operations):  \n",
        "    \n",
        "    digits_list = digits.copy()\n",
        "    operations_list = operations.copy()\n",
        "\n",
        "    first_digit = max(digits_list)\n",
        "    expression = str(first_digit)\n",
        "    digits_list.remove(first_digit)\n",
        "       \n",
        "    while operations_list:\n",
        "        max_value = float('-inf')\n",
        "        best_possible_operation = None\n",
        "        best_possible_digit = None\n",
        "        \n",
        "        for operation in operations_list:\n",
        "            for digit in digits_list:\n",
        "                current_expression = f\"{expression}{operation}{digit}\"                \n",
        "                result = eval(current_expression)\n",
        "                if result == int(result) and result > max_value:  \n",
        "                    max_value = result\n",
        "                    best_possible_operation = operation\n",
        "                    best_possible_digit = digit                \n",
        "        \n",
        "        if best_possible_operation is None or best_possible_digit is None:\n",
        "            break \n",
        "        \n",
        "        expression = f\"{expression}{best_possible_operation}{best_possible_digit}\"\n",
        "        operations_list.remove(best_possible_operation)\n",
        "        digits_list.remove(best_possible_digit)\n",
        "    \n",
        "    return int(eval(expression))\n",
        "\n",
        "\n",
        "digits = [1, 2, 3, 4, 5, 6, 7, 8, 9]\n",
        "operations = ['+', '-', '*', '/']\n",
        "\n",
        "print(f'Maximum value: {calculate_maximum_greedy(digits, operations)}')   "
      ]
    },
    {
      "cell_type": "markdown",
      "metadata": {
        "id": "eGDB4K6uk1iN"
      },
      "source": [
        "(*)Calcula la complejidad del algoritmo"
      ]
    },
    {
      "cell_type": "markdown",
      "metadata": {
        "id": "NhpTh_BPk1ms"
      },
      "source": [
        "Respuesta"
      ]
    },
    {
      "cell_type": "markdown",
      "metadata": {
        "id": "nREzhkStlCq8"
      },
      "source": [
        "El algoritmo voraz consta de 3 bucles anidados. El primero se ejecuta mientras haya operaciones disponibles. \n",
        "En cada iteración de este, se ejecutan dos bucles restantes de forma anidada, buscando la combinación de dígito y operación que maximice el resultado de la expresión en este paso concreto. Por esta razón decimos que el algoritmo es voraz.\n",
        "\n",
        "Por tanto, la complejidad del algoritmo es: \n",
        "\n",
        "$$\n",
        "T = O(n^2 \\times m)\n",
        "$$\n",
        "\n",
        "donde n es el número de operaciones y m el número de dígitos. \n"
      ]
    },
    {
      "cell_type": "markdown",
      "metadata": {
        "id": "3M6QjTsSkmYe"
      },
      "source": [
        "Según el problema (y tenga sentido), diseña un juego de datos de entrada aleatorios"
      ]
    },
    {
      "cell_type": "markdown",
      "metadata": {
        "id": "Jc3_OlyNkvjZ"
      },
      "source": [
        "Respuesta"
      ]
    },
    {
      "cell_type": "code",
      "execution_count": 87,
      "metadata": {
        "id": "sJ-N2etjkyWc"
      },
      "outputs": [
        {
          "name": "stdout",
          "output_type": "stream",
          "text": [
            "[83, 98, 37, 13, 99, 62, 73, 67, 83]\n"
          ]
        }
      ],
      "source": [
        "import random\n",
        "random_integers = [random.randint(1, 100) for _ in range(9)]\n",
        "print(random_integers)"
      ]
    },
    {
      "cell_type": "markdown",
      "metadata": {
        "id": "zy5ZROmjlGo1"
      },
      "source": [
        "Aplica el algoritmo al juego de datos generado"
      ]
    },
    {
      "cell_type": "code",
      "execution_count": 97,
      "metadata": {},
      "outputs": [
        {
          "name": "stdout",
          "output_type": "stream",
          "text": [
            "Maximum value brute force: 9774\n",
            "CPU times: total: 1.83 s\n",
            "Wall time: 1.93 s\n"
          ]
        }
      ],
      "source": [
        "%%time\n",
        "\n",
        "results = arithmetic_expression_constructor(random_integers, number_of_digits, operations, number_of_operations)\n",
        "max_value = max(results)\n",
        "print(f'Maximum value brute force: {max_value}')"
      ]
    },
    {
      "cell_type": "code",
      "execution_count": 98,
      "metadata": {},
      "outputs": [
        {
          "name": "stdout",
          "output_type": "stream",
          "text": [
            "Maximum value greedy: 9772\n",
            "CPU times: total: 0 ns\n",
            "Wall time: 0 ns\n"
          ]
        }
      ],
      "source": [
        "%%time\n",
        "\n",
        "max_value = calculate_maximum_greedy(random_integers, operations)\n",
        "\n",
        "print(f'Maximum value greedy: {max_value}')"
      ]
    },
    {
      "cell_type": "markdown",
      "metadata": {
        "id": "_Cmj-PVylMsa"
      },
      "source": [
        "Respuesta"
      ]
    },
    {
      "cell_type": "markdown",
      "metadata": {},
      "source": [
        "Como se puede comprobar, el resultado del algoritmo voraz no siempre es exacto, pero sí bastante aproximado, y el tiempo es considerablemente inferior, incluso para 10 elementos. A medida que el tamaño de entrada aumente, la ganancia del algoritmo voraz en cuanto a velocidad se volverá incluso más importante."
      ]
    },
    {
      "cell_type": "markdown",
      "metadata": {
        "id": "eTFWUJQrtGcv"
      },
      "source": [
        "Enumera las referencias que has utilizado(si ha sido necesario) para llevar a cabo el trabajo"
      ]
    },
    {
      "cell_type": "markdown",
      "metadata": {
        "id": "YKQ_mRBttWsP"
      },
      "source": [
        "“Arithmetic Expression Construction”, Alcock, Asif, Bosboom, Brunner, Chen, Demaine, Epstein, Hesterberg, Hirschfeld, Hu, Lynch, Scheffler, Zhang. “Arithmetic Expression Construction”. 31st International Symposium on Algorithms and Computation (ISAAC 2020)\n",
        "\n",
        "“The Computational Complexity of Finding Arithmetic Expressions With and Without Parentheses”, Lynch, Weng. “The Computational Complexity of Finding Arithmetic Expressions With and Without Parentheses”\n"
      ]
    },
    {
      "cell_type": "markdown",
      "metadata": {
        "id": "kAkDPUyRtYyH"
      },
      "source": [
        "Describe brevemente las lineas de como crees que es posible avanzar en el estudio del problema. Ten en cuenta incluso posibles variaciones del problema y/o variaciones al alza del tamaño"
      ]
    },
    {
      "cell_type": "markdown",
      "metadata": {},
      "source": [
        "Respuesta"
      ]
    },
    {
      "cell_type": "markdown",
      "metadata": {
        "id": "IE0uZmo-tZu-"
      },
      "source": [
        "Se pueden aplicar otras técnicas para mejorar la el rendimiento del algoritmo de fuerza bruta, por ejemplo programación dinámica sobre subconjuntos con máscaras de bits, o divide y vencerás/ meet in the middle. Sin embargo, se corre el riesgo de cambiar las propiedades del problema tal como está planteado en el enunciado, es decir, sin añadir factores de precedencia adicionales a los de los propios operadores. Por ejemplo, si usamos divide y vencerás, la propia naturaleza del algoritmo cambia la precedencia de los operadores, pues cada subproblema se evalúa antes de combinarlos. Esto puede cambiar el conjunto de valores posibles y el máximo o mínimo valor posible."
      ]
    }
  ],
  "metadata": {
    "colab": {
      "provenance": []
    },
    "kernelspec": {
      "display_name": "Python 3",
      "name": "python3"
    },
    "language_info": {
      "codemirror_mode": {
        "name": "ipython",
        "version": 3
      },
      "file_extension": ".py",
      "mimetype": "text/x-python",
      "name": "python",
      "nbconvert_exporter": "python",
      "pygments_lexer": "ipython3",
      "version": "3.11.0"
    }
  },
  "nbformat": 4,
  "nbformat_minor": 0
}
